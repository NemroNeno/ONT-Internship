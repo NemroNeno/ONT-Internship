{
 "cells": [
  {
   "cell_type": "code",
   "execution_count": 208,
   "metadata": {},
   "outputs": [],
   "source": [
    "import tensorflow as tf\n",
    "from tensorflow.keras import layers, models\n",
    "import numpy as np\n"
   ]
  },
  {
   "cell_type": "code",
   "execution_count": 250,
   "metadata": {},
   "outputs": [],
   "source": [
    "import numpy as np\n",
    "import tensorflow as tf\n",
    "import pandas as pd\n",
    "from sklearn.preprocessing import MinMaxScaler\n",
    "from sklearn.ensemble import IsolationForest\n",
    "from tensorflow.keras.models import Sequential\n",
    "from tensorflow.keras.layers import Dense, LeakyReLU, BatchNormalization, Dropout\n",
    "from tensorflow.keras.optimizers import Adam\n",
    "\n",
    "# Load and preprocess data\n",
    "df = pd.read_csv(\"Dataset_timeseries.csv\")\n",
    "data = df.groupby(\"Number\")\n",
    "split = {g: d for g, d in data}\n",
    "dataset = split[1].iloc[:, 1:]\n",
    "\n",
    "sc = MinMaxScaler(feature_range=(-1, 1))\n",
    "\n",
    "sequence_length = 10\n",
    "sequences = []\n",
    "for i in range(len(dataset['SOPAS']) - sequence_length):\n",
    "    sequences.append(dataset['SOPAS'][i:i+sequence_length])\n",
    "\n",
    "sequences = np.array(sequences)\n",
    "# sequences = np.expand_dims(sequences, -1)\n",
    "#sequences = dataset['SOPAS'].values.reshape(-1, 1)\n"
   ]
  },
  {
   "cell_type": "code",
   "execution_count": 251,
   "metadata": {},
   "outputs": [
    {
     "name": "stdout",
     "output_type": "stream",
     "text": [
      "(20634, 10)\n"
     ]
    }
   ],
   "source": [
    "print(sequences.shape)"
   ]
  },
  {
   "cell_type": "code",
   "execution_count": 252,
   "metadata": {},
   "outputs": [
    {
     "name": "stdout",
     "output_type": "stream",
     "text": [
      "19602\n"
     ]
    }
   ],
   "source": [
    "\n",
    "# Isolation Forest for outlier detection\n",
    "model = IsolationForest(contamination=0.05, random_state=42)\n",
    "model.fit(sequences)\n",
    "\n",
    "# Predict outliers\n",
    "predictions = model.predict(sequences)\n",
    "outliers = np.where(predictions == -1)\n",
    "outlier_data = sequences[outliers]\n",
    "un_transformed=outlier_data\n",
    "outlier_data = sc.fit_transform(outlier_data)\n",
    "normal_data = sequences[np.where(predictions == 1)]\n",
    "print(len(normal_data))"
   ]
  },
  {
   "cell_type": "code",
   "execution_count": 253,
   "metadata": {},
   "outputs": [
    {
     "data": {
      "text/plain": [
       "(1032, 10)"
      ]
     },
     "execution_count": 253,
     "metadata": {},
     "output_type": "execute_result"
    }
   ],
   "source": [
    "outlier_data.shape"
   ]
  },
  {
   "cell_type": "code",
   "execution_count": 279,
   "metadata": {},
   "outputs": [],
   "source": [
    "# Define GAN components\n",
    "def build_generator(noise_dim):\n",
    "    model = Sequential()\n",
    "    \n",
    "    model.add(Dense(256, input_dim=noise_dim))\n",
    "    model.add(LeakyReLU(alpha=0.01))\n",
    "    model.add(BatchNormalization())\n",
    "    \n",
    "    model.add(Dense(512))\n",
    "    model.add(LeakyReLU(alpha=0.01))\n",
    "    model.add(BatchNormalization())\n",
    "    \n",
    "    model.add(Dense(1024))\n",
    "    model.add(LeakyReLU(alpha=0.01))\n",
    "    model.add(BatchNormalization())\n",
    "    \n",
    "    model.add(Dense(2048))\n",
    "    model.add(LeakyReLU(alpha=0.01))\n",
    "    model.add(BatchNormalization())\n",
    "\n",
    "    \n",
    "    model.add(Dense(10, activation='tanh')) \n",
    "    return model\n"
   ]
  },
  {
   "cell_type": "code",
   "execution_count": 280,
   "metadata": {},
   "outputs": [],
   "source": [
    "def build_discriminator():\n",
    "    model = Sequential()\n",
    "    model.add(Dense(256, input_dim=10))\n",
    "    model.add(LeakyReLU(alpha=0.01))\n",
    "    model.add(Dropout(0.4))\n",
    "    \n",
    "    model.add(Dense(512))\n",
    "    model.add(LeakyReLU(alpha=0.01))\n",
    "    model.add(Dropout(0.4))\n",
    "    \n",
    "    model.add(Dense(1024))\n",
    "    model.add(LeakyReLU(alpha=0.01))\n",
    "    model.add(Dropout(0.4))\n",
    "    \n",
    "    model.add(Dense(2048))\n",
    "    model.add(LeakyReLU(alpha=0.01))\n",
    "    model.add(Dropout(0.4))\n",
    "   \n",
    "    \n",
    "    model.add(Dense(1, activation='sigmoid'))\n",
    "    return model\n",
    "\n",
    "def build_gan(generator, discriminator):\n",
    "    model = Sequential()\n",
    "    model.add(generator)\n",
    "    model.add(discriminator)\n",
    "    return model\n",
    "\n",
    "# Initialize models\n",
    "noise_dim = 200\n",
    "generator = build_generator(noise_dim)\n",
    "discriminator = build_discriminator()"
   ]
  },
  {
   "cell_type": "code",
   "execution_count": 282,
   "metadata": {},
   "outputs": [
    {
     "name": "stdout",
     "output_type": "stream",
     "text": [
      "Model: \"sequential_51\"\n",
      "_________________________________________________________________\n",
      " Layer (type)                Output Shape              Param #   \n",
      "=================================================================\n",
      " dense_214 (Dense)           (None, 256)               2816      \n",
      "                                                                 \n",
      " leaky_re_lu_76 (LeakyReLU)  (None, 256)               0         \n",
      "                                                                 \n",
      " dropout_132 (Dropout)       (None, 256)               0         \n",
      "                                                                 \n",
      " dense_215 (Dense)           (None, 512)               131584    \n",
      "                                                                 \n",
      " leaky_re_lu_77 (LeakyReLU)  (None, 512)               0         \n",
      "                                                                 \n",
      " dropout_133 (Dropout)       (None, 512)               0         \n",
      "                                                                 \n",
      " dense_216 (Dense)           (None, 1024)              525312    \n",
      "                                                                 \n",
      " leaky_re_lu_78 (LeakyReLU)  (None, 1024)              0         \n",
      "                                                                 \n",
      " dropout_134 (Dropout)       (None, 1024)              0         \n",
      "                                                                 \n",
      " dense_217 (Dense)           (None, 2048)              2099200   \n",
      "                                                                 \n",
      " leaky_re_lu_79 (LeakyReLU)  (None, 2048)              0         \n",
      "                                                                 \n",
      " dropout_135 (Dropout)       (None, 2048)              0         \n",
      "                                                                 \n",
      " dense_218 (Dense)           (None, 1)                 2049      \n",
      "                                                                 \n",
      "=================================================================\n",
      "Total params: 2,760,961\n",
      "Trainable params: 2,760,961\n",
      "Non-trainable params: 0\n",
      "_________________________________________________________________\n"
     ]
    }
   ],
   "source": [
    "discriminator.summary()"
   ]
  },
  {
   "cell_type": "code",
   "execution_count": null,
   "metadata": {},
   "outputs": [],
   "source": [
    "# Compile models\n",
    "discriminator.compile(loss='binary_crossentropy', optimizer=Adam(learning_rate=0.02, beta_1=0.5), metrics=['accuracy'])\n",
    "discriminator.trainable = False\n",
    "gan = build_gan(generator, discriminator)\n",
    "gan.compile(loss='binary_crossentropy', optimizer=Adam(learning_rate=0.02, beta_1=0.5))\n",
    "\n",
    "\n",
    "\n",
    "\n",
    "\n",
    "@tf.function\n",
    "def train_step(real_samples):\n",
    "    batch_size = real_samples.shape[0]\n",
    "\n",
    "    # Generate fake samples\n",
    "    noise = tf.random.normal([batch_size, noise_dim])\n",
    "    generated_samples = generator(noise, training=True)\n",
    "\n",
    "    # Real and fake labels\n",
    "    real_labels = tf.ones((batch_size, 1))\n",
    "    fake_labels = tf.zeros((batch_size, 1))\n",
    "\n",
    "    # Train discriminator\n",
    "    with tf.GradientTape() as tape:\n",
    "        d_loss_real = discriminator(real_samples, training=True)\n",
    "        d_loss_fake = discriminator(generated_samples, training=True)\n",
    "        d_loss_real = tf.reduce_mean(tf.keras.losses.binary_crossentropy(real_labels, d_loss_real))\n",
    "        d_loss_fake = tf.reduce_mean(tf.keras.losses.binary_crossentropy(fake_labels, d_loss_fake))\n",
    "        d_loss = 0.5 * (d_loss_real + d_loss_fake)\n",
    "    \n",
    "    grads = tape.gradient(d_loss, discriminator.trainable_variables)\n",
    "    if grads and any(g is not None for g in grads):\n",
    "        grads_and_vars = [(g, v) for g, v in zip(grads, discriminator.trainable_variables) if g is not None]\n",
    "        discriminator.optimizer.apply_gradients(grads_and_vars)\n",
    "\n",
    "    # Train generator\n",
    "    with tf.GradientTape() as tape:\n",
    "        noise = tf.random.normal([batch_size, noise_dim])\n",
    "        generated_samples = generator(noise, training=True)\n",
    "        g_loss = tf.reduce_mean(tf.keras.losses.binary_crossentropy(real_labels, discriminator(generated_samples, training=True)))\n",
    "        grads = tape.gradient(g_loss, generator.trainable_variables)\n",
    "    if grads and any(g is not None for g in grads):\n",
    "        grads_and_vars = [(g, v) for g, v in zip(grads, generator.trainable_variables) if g is not None]\n",
    "        gan.optimizer.apply_gradients(grads_and_vars)\n",
    "\n",
    "    return d_loss, g_loss\n",
    "\n",
    "def train_gan(epochs, batch_size, data):\n",
    "    for epoch in range(epochs):\n",
    "        idx = np.random.randint(0, data.shape[0], batch_size)\n",
    "        real_samples = data[idx]\n",
    "\n",
    "        d_loss, g_loss = train_step(real_samples)\n",
    "\n",
    "      \n",
    "        if epoch % 100 == 0:\n",
    "            print(f\"{epoch}: Discriminator Loss: {d_loss.numpy()}, Generator Loss: {g_loss.numpy()}\")\n",
    "\n",
    "\n",
    "data = outlier_data\n",
    "\n",
    "# Train the GAN\n",
    "train_gan(epochs=5000, batch_size=256, data=data)\n",
    "    "
   ]
  },
  {
   "cell_type": "code",
   "execution_count": null,
   "metadata": {},
   "outputs": [],
   "source": []
  },
  {
   "cell_type": "code",
   "execution_count": 260,
   "metadata": {},
   "outputs": [
    {
     "name": "stdout",
     "output_type": "stream",
     "text": [
      "33/33 [==============================] - 0s 2ms/step\n",
      "Real Data - Mean: 1.4986915155906642, Std: 0.9585382234958385\n",
      "Generated Data - Mean: 1.559913992881775, Std: 1.5445119142532349\n"
     ]
    }
   ],
   "source": [
    "noise = np.random.normal(0, 1, size=(1028,noise_dim))\n",
    "generated_samples = generator.predict(noise)\n",
    "generated_samples = sc.inverse_transform(generated_samples)\n",
    "real_mean = np.mean(un_transformed)\n",
    "real_std = np.std(un_transformed)\n",
    "generated_mean = np.mean(generated_samples)\n",
    "generated_std = np.std(generated_samples)\n",
    "\n",
    "print(f\"Real Data - Mean: {real_mean}, Std: {real_std}\")\n",
    "print(f\"Generated Data - Mean: {generated_mean}, Std: {generated_std}\")"
   ]
  },
  {
   "cell_type": "code",
   "execution_count": 261,
   "metadata": {},
   "outputs": [
    {
     "name": "stdout",
     "output_type": "stream",
     "text": [
      "(1028, 10)\n"
     ]
    }
   ],
   "source": [
    "print(generated_samples.shape)"
   ]
  },
  {
   "cell_type": "code",
   "execution_count": 262,
   "metadata": {},
   "outputs": [
    {
     "name": "stdout",
     "output_type": "stream",
     "text": [
      "WARNING:tensorflow:Compiled the loaded model, but the compiled metrics have yet to be built. `model.compile_metrics` will be empty until you train or evaluate the model.\n",
      "480/480 [==============================] - 1s 2ms/step\n",
      "Real Data - Mean: 1.4986915155906642, Std: 0.9585382234958385\n",
      "Generated Data - Mean: 1.5601146221160889, Std: 1.5445125102996826\n"
     ]
    }
   ],
   "source": [
    "noise = np.random.normal(0, 1, size=(15333,noise_dim))\n",
    "generator.save(\"generator.h5\")\n",
    "\n",
    "generated_samples = generator.predict(noise)\n",
    "generated_samples = sc.inverse_transform(generated_samples)\n",
    "real_mean = np.mean(un_transformed)\n",
    "real_std = np.std(un_transformed)\n",
    "generated_mean = np.mean(generated_samples)\n",
    "generated_std = np.std(generated_samples)\n",
    "\n",
    "print(f\"Real Data - Mean: {real_mean}, Std: {real_std}\")\n",
    "print(f\"Generated Data - Mean: {generated_mean}, Std: {generated_std}\")\n",
    "\n"
   ]
  },
  {
   "cell_type": "code",
   "execution_count": 263,
   "metadata": {},
   "outputs": [
    {
     "name": "stderr",
     "output_type": "stream",
     "text": [
      "C:\\Users\\Nemro Neno\\AppData\\Local\\Temp\\ipykernel_6400\\2745623859.py:15: UserWarning: Dataset has 0 variance; skipping density estimate. Pass `warn_singular=False` to disable this warning.\n",
      "  sns.kdeplot(generated_data, label='Generated Data', color='yellow', fill=False, alpha=0.3)\n"
     ]
    },
    {
     "data": {
      "image/png": "[encoded data removed]",
      "text/plain": [
       "<Figure size 1200x600 with 1 Axes>"
      ]
     },
     "metadata": {},
     "output_type": "display_data"
    }
   ],
   "source": [
    "import numpy as np\n",
    "import matplotlib.pyplot as plt\n",
    "import seaborn as sns\n",
    "\n",
    "# Example datasets (replace these with your actual datasets)\n",
    "actual_data = un_transformed\n",
    "generated_data = generated_samples\n",
    "# Create a KDE plot\n",
    "plt.figure(figsize=(12, 6))\n",
    "\n",
    "# Plot KDE for the actual dataset\n",
    "sns.kdeplot(actual_data, label='Actual Data', color='blue', fill=False, alpha=1)\n",
    "\n",
    "# Plot KDE for the generated dataset\n",
    "sns.kdeplot(generated_data, label='Generated Data', color='yellow', fill=False, alpha=0.3)\n",
    "\n",
    "# Add labels and title\n",
    "plt.xlabel('Feature Value')\n",
    "plt.ylabel('Density')\n",
    "plt.title('KDE Comparison of Actual and Generated Datasets')\n",
    "\n",
    "\n",
    "# Show the plot\n",
    "plt.show()"
   ]
  },
  {
   "cell_type": "code",
   "execution_count": null,
   "metadata": {},
   "outputs": [],
   "source": [
    "import matplotlib.pyplot as plt\n",
    "\n",
    "# Example data: single feature point\n",
    "\n",
    "# Create a scatter plot\n",
    "plt.figure(figsize=(15, 10))\n",
    "plt.scatter(range(len(generated_samples)), generated_samples, c='blue', marker='o', edgecolor='white', zorder=5)\n",
    "plt.scatter(range(len(sequences)), sequences, c='red', marker='o', edgecolor='black')\n",
    "\n",
    "# Add title and labels\n",
    "plt.title(\"Single Feature Points\")\n",
    "plt.xlabel(\"Index\")\n",
    "plt.ylabel(\"Feature Value\")\n",
    "\n",
    "# Display the plot\n",
    "plt.show()\n"
   ]
  },
  {
   "cell_type": "code",
   "execution_count": 264,
   "metadata": {},
   "outputs": [
    {
     "name": "stdout",
     "output_type": "stream",
     "text": [
      "15329\n"
     ]
    }
   ],
   "source": [
    "iso_forest = IsolationForest(contamination=0.002, random_state=42)\n",
    "iso_forest.fit(generated_samples)\n",
    "\n",
    "\n",
    "predictions = iso_forest.predict(generated_samples)\n",
    "outliers = np.where(predictions == 1)\n",
    "true_val = np.where(predictions == -1)\n",
    "actual_noise = generated_samples[outliers]\n",
    "outlier_data = generated_samples[true_val]\n",
    "print(len(actual_noise))\n"
   ]
  },
  {
   "cell_type": "code",
   "execution_count": 265,
   "metadata": {},
   "outputs": [
    {
     "name": "stdout",
     "output_type": "stream",
     "text": [
      "(35020, 10)\n",
      "(35020,)\n"
     ]
    }
   ],
   "source": [
    "# actual_noise=pd.DataFrame(generated_samples,columns=[\"SOPAS\"])\n",
    "# actual_noise['Number']=0\n",
    "# normal_data=pd.DataFrame(sequences,columns=[\"SOPAS\"])\n",
    "# normal_data['Number']=1\n",
    "# final_dataset=pd.concat([normal_data,actual_noise],ignore_index=True)\n",
    "# # Shuffle the combined dataframe\n",
    "# final_dataset.to_csv('final_dataset.csv')\n",
    "# print(final_dataset)\n",
    "\n",
    "x=np.concatenate((sequences,generated_samples),axis=0)\n",
    "y=np.concatenate((np.ones(sequences.shape[0]),np.zeros(generated_samples.shape[0])),axis=0) \n",
    "x=x[:-947]\n",
    "y=y[:-947]\n",
    "print(x.shape)\n",
    "print(y.shape)\n"
   ]
  },
  {
   "cell_type": "code",
   "execution_count": 239,
   "metadata": {},
   "outputs": [
    {
     "name": "stdout",
     "output_type": "stream",
     "text": [
      "[1. 1. 1. ... 0. 0. 0.]\n"
     ]
    }
   ],
   "source": [
    "print(y)"
   ]
  },
  {
   "cell_type": "code",
   "execution_count": 266,
   "metadata": {},
   "outputs": [],
   "source": [
    "class TransformerBlock(layers.Layer):\n",
    "    def __init__(self, embed_dim, num_heads, ff_dim, rate=0.1, **kwargs):\n",
    "        super(TransformerBlock, self).__init__(**kwargs)\n",
    "        self.att = layers.MultiHeadAttention(num_heads=num_heads, key_dim=embed_dim)\n",
    "        self.ffn = models.Sequential(\n",
    "            [layers.Dense(ff_dim, activation=\"relu\"), layers.Dense(embed_dim)]\n",
    "        )\n",
    "        self.layernorm1 = layers.LayerNormalization(epsilon=1e-6)\n",
    "        self.layernorm2 = layers.LayerNormalization(epsilon=1e-6)\n",
    "        self.dropout1 = layers.Dropout(rate)\n",
    "        self.dropout2 = layers.Dropout(rate)\n",
    "        self.embed_dim = embed_dim\n",
    "        self.num_heads = num_heads\n",
    "        self.ff_dim = ff_dim\n",
    "        self.rate = rate\n",
    "\n",
    "    def call(self, inputs, training):\n",
    "        attn_output = self.att(inputs, inputs)\n",
    "        attn_output = self.dropout1(attn_output, training=training)\n",
    "        out1 = self.layernorm1(inputs + attn_output)\n",
    "        ffn_output = self.ffn(out1)\n",
    "        ffn_output = self.dropout2(ffn_output, training=training)\n",
    "        return self.layernorm2(out1 + ffn_output)\n",
    "    def get_config(self):\n",
    "        config = super(TransformerBlock, self).get_config()\n",
    "        config.update({\n",
    "            \"embed_dim\": self.embed_dim,\n",
    "            \"num_heads\": self.num_heads,\n",
    "            \"ff_dim\": self.ff_dim,\n",
    "            \"rate\": self.rate,\n",
    "        })\n",
    "        return config\n"
   ]
  },
  {
   "cell_type": "code",
   "execution_count": 267,
   "metadata": {},
   "outputs": [],
   "source": [
    "class PositionalEncoding(layers.Layer):\n",
    "    def __init__(self, embed_dim,**kwargs):\n",
    "        super(PositionalEncoding, self).__init__(**kwargs)\n",
    "        self.embed_dim = embed_dim\n",
    "\n",
    "    def call(self, x):\n",
    "        # Get the shape of the input tensor\n",
    "        seq_length = tf.shape(x)[-2]\n",
    "        \n",
    "        # Generate position indices and cast to float32\n",
    "        position = tf.range(start=0, limit=seq_length, delta=1, dtype=tf.float32)\n",
    "        position = tf.expand_dims(position, axis=1)\n",
    "\n",
    "        # Calculate the angle rates\n",
    "        angle_rates = 1 / tf.pow(tf.cast(10000, tf.float32), tf.cast((2 * (tf.range(tf.cast(self.embed_dim, tf.float32)) // 2)) / tf.cast(self.embed_dim, tf.float32),tf.float32))\n",
    "        \n",
    "        # Compute the angle radians\n",
    "        angle_rads = tf.matmul(position, tf.expand_dims(angle_rates, 0))\n",
    "\n",
    "        # Apply sin and cos to alternate positions\n",
    "        sines = tf.sin(angle_rads[:, 0::2])\n",
    "        cosines = tf.cos(angle_rads[:, 1::2])\n",
    "        \n",
    "        # Concatenate sines and cosines to create the positional encoding\n",
    "        pos_encoding = tf.concat([sines, cosines], axis=-1)\n",
    "\n",
    "        # Expand the positional encoding to match the batch size\n",
    "        pos_encoding = tf.expand_dims(pos_encoding, axis=0)\n",
    "        \n",
    "        # Add positional encoding to input tensor\n",
    "        return x + pos_encoding\n",
    "    def get_config(self):\n",
    "        config = super(PositionalEncoding, self).get_config()\n",
    "        config.update({\n",
    "            \"embed_dim\": self.embed_dim,\n",
    "        })\n",
    "        return config\n"
   ]
  },
  {
   "cell_type": "code",
   "execution_count": 268,
   "metadata": {},
   "outputs": [],
   "source": [
    "def build_transformer_model(input_shape, embed_dim=4, num_heads=1, ff_dim=4):\n",
    "    inputs = layers.Input(shape=input_shape)\n",
    "\n",
    "    # Embedding and Positional Encoding (if applicable)\n",
    "    x = layers.Dense(embed_dim)(inputs)\n",
    "    x = PositionalEncoding(embed_dim)(x)\n",
    "\n",
    "    # Transformer block\n",
    "    transformer_block = TransformerBlock(embed_dim, num_heads, ff_dim)\n",
    "    x = transformer_block(x)\n",
    "\n",
    "    # Pooling and output\n",
    "    x = layers.GlobalAveragePooling1D()(x)\n",
    "    x = layers.Dropout(0.1)(x)\n",
    "    x = layers.Dense(20, activation=\"relu\")(x)\n",
    "    x = layers.Dropout(0.1)(x)\n",
    "    outputs = layers.Dense(1, activation=\"sigmoid\")(x)\n",
    "\n",
    "    model = models.Model(inputs=inputs, outputs=outputs)\n",
    "    return model\n"
   ]
  },
  {
   "cell_type": "code",
   "execution_count": 269,
   "metadata": {},
   "outputs": [
    {
     "name": "stdout",
     "output_type": "stream",
     "text": [
      "Model: \"model_22\"\n",
      "_________________________________________________________________\n",
      " Layer (type)                Output Shape              Param #   \n",
      "=================================================================\n",
      " input_23 (InputLayer)       [(None, 1, 10)]           0         \n",
      "                                                                 \n",
      " dense_192 (Dense)           (None, 1, 4)              44        \n",
      "                                                                 \n",
      " positional_encoding_22 (Pos  (None, 1, 4)             0         \n",
      " itionalEncoding)                                                \n",
      "                                                                 \n",
      " transformer_block_22 (Trans  (None, 1, 4)             136       \n",
      " formerBlock)                                                    \n",
      "                                                                 \n",
      " global_average_pooling1d_22  (None, 4)                0         \n",
      "  (GlobalAveragePooling1D)                                       \n",
      "                                                                 \n",
      " dropout_124 (Dropout)       (None, 4)                 0         \n",
      "                                                                 \n",
      " dense_195 (Dense)           (None, 20)                100       \n",
      "                                                                 \n",
      " dropout_125 (Dropout)       (None, 20)                0         \n",
      "                                                                 \n",
      " dense_196 (Dense)           (None, 1)                 21        \n",
      "                                                                 \n",
      "=================================================================\n",
      "Total params: 301\n",
      "Trainable params: 301\n",
      "Non-trainable params: 0\n",
      "_________________________________________________________________\n"
     ]
    }
   ],
   "source": [
    "model = build_transformer_model(input_shape=(1,10))\n",
    "model.compile(optimizer=\"adam\", loss=\"binary_crossentropy\", metrics=[\"accuracy\"])\n",
    "model.summary()\n"
   ]
  },
  {
   "cell_type": "code",
   "execution_count": 270,
   "metadata": {},
   "outputs": [],
   "source": [
    "import pandas as pd\n",
    "from sklearn.model_selection import train_test_split\n",
    "x=x.reshape(-1,1,10)\n",
    "indx=np.arange(len(x))\n",
    "np.random.shuffle(indx)\n",
    "x_shuf=x[indx]\n",
    "y_shuf=y[indx]\n",
    "x_train,x_test,y_train,y_test=train_test_split(x_shuf,y_shuf,test_size=0.4,random_state=42)\n",
    "\n"
   ]
  },
  {
   "cell_type": "code",
   "execution_count": 271,
   "metadata": {},
   "outputs": [
    {
     "name": "stdout",
     "output_type": "stream",
     "text": [
      "Epoch 1/5\n",
      "50/50 [==============================] - 2s 26ms/step - loss: 0.4002 - accuracy: 0.9142 - val_loss: 0.2456 - val_accuracy: 0.9974\n",
      "Epoch 2/5\n",
      "50/50 [==============================] - 1s 15ms/step - loss: 0.1974 - accuracy: 0.9860 - val_loss: 0.1131 - val_accuracy: 0.9995\n",
      "Epoch 3/5\n",
      "50/50 [==============================] - 1s 16ms/step - loss: 0.1006 - accuracy: 0.9959 - val_loss: 0.0508 - val_accuracy: 0.9996\n",
      "Epoch 4/5\n",
      "50/50 [==============================] - 1s 17ms/step - loss: 0.0524 - accuracy: 0.9989 - val_loss: 0.0240 - val_accuracy: 0.9999\n",
      "Epoch 5/5\n",
      "50/50 [==============================] - 1s 18ms/step - loss: 0.0277 - accuracy: 0.9994 - val_loss: 0.0088 - val_accuracy: 1.0000\n"
     ]
    },
    {
     "data": {
      "text/plain": [
       "<keras.callbacks.History at 0x18c1469c220>"
      ]
     },
     "execution_count": 271,
     "metadata": {},
     "output_type": "execute_result"
    }
   ],
   "source": [
    "model.fit(x_train, y_train, epochs=5, batch_size=256, validation_split=0.4)"
   ]
  },
  {
   "cell_type": "code",
   "execution_count": 272,
   "metadata": {},
   "outputs": [
    {
     "name": "stdout",
     "output_type": "stream",
     "text": [
      "438/438 [==============================] - 2s 5ms/step\n"
     ]
    }
   ],
   "source": [
    "from sklearn.metrics import accuracy_score, confusion_matrix,classification_report\n",
    "from matplotlib import pyplot as plt\n",
    "import seaborn as sns\n",
    "from matplotlib.backends.backend_pdf import PdfPages\n",
    "\n",
    "y_pred = model.predict(x_test)\n",
    "y_pred = (y_pred > 0.5).astype(int)\n",
    "accuracy = accuracy_score(y_test, y_pred)"
   ]
  },
  {
   "cell_type": "code",
   "execution_count": 273,
   "metadata": {},
   "outputs": [
    {
     "name": "stdout",
     "output_type": "stream",
     "text": [
      "Accuracy: 0.9999286122215877\n"
     ]
    },
    {
     "data": {
      "image/png": "[encoded data removed]",
      "text/plain": [
       "<Figure size 1000x700 with 2 Axes>"
      ]
     },
     "metadata": {},
     "output_type": "display_data"
    }
   ],
   "source": [
    "cm = confusion_matrix(y_test, y_pred)\n",
    "\n",
    "# Print results\n",
    "print(f\"Accuracy: {accuracy}\")\n",
    "\n",
    "# Plot confusion matrix\n",
    "plt.figure(figsize=(10, 7))\n",
    "sns.heatmap(cm, annot=True, fmt='d', cmap='Blues', xticklabels=np.unique(y_test), yticklabels=np.unique(y_test))\n",
    "plt.xlabel('Predicted Labels')\n",
    "plt.ylabel('True Labels')\n",
    "plt.title('Confusion Matrix')\n",
    "plt.show()\n",
    "\n",
    "\n",
    "report_dict = classification_report(y_test, y_pred, output_dict=True)\n",
    "\n",
    "# Convert the classification report dictionary to a DataFrame\n",
    "import pandas as pd\n",
    "\n",
    "# Extract class names\n",
    "class_names = list(report_dict.keys())\n",
    "class_names.remove('accuracy')  # Remove 'accuracy' from the class names list\n",
    "\n",
    "# Create DataFrame from classification report\n",
    "report_df = pd.DataFrame(report_dict).transpose()\n",
    "report_df = report_df.reset_index().rename(columns={'index': 'Class'})\n",
    "\n",
    "# Save the classification report to a PDF\n",
    "pdf_filename = 'classification_report.pdf'"
   ]
  },
  {
   "cell_type": "code",
   "execution_count": 274,
   "metadata": {},
   "outputs": [
    {
     "name": "stdout",
     "output_type": "stream",
     "text": [
      "Classification report saved to classification_report.pdf\n"
     ]
    }
   ],
   "source": [
    "with PdfPages(pdf_filename) as pdf:\n",
    "    plt.figure(figsize=(12, 8))\n",
    "    plt.table(cellText=report_df.values,\n",
    "              colLabels=report_df.columns,\n",
    "              rowLabels=report_df['Class'],\n",
    "              cellLoc='center',\n",
    "              loc='center')\n",
    "    plt.axis('off')\n",
    "    plt.title(f'Classification Report\\nAccuracy: {accuracy:.2f}')\n",
    "    \n",
    "    # Save the plot to the PDF\n",
    "    pdf.savefig()\n",
    "    plt.close()\n",
    "\n",
    "print(f'Classification report saved to {pdf_filename}')"
   ]
  },
  {
   "cell_type": "code",
   "execution_count": 275,
   "metadata": {},
   "outputs": [],
   "source": [
    "model.save('Transformerclassifier.h5')"
   ]
  },
  {
   "cell_type": "code",
   "execution_count": 276,
   "metadata": {},
   "outputs": [],
   "source": [
    "loaded_model = tf.keras.models.load_model('Transformerclassifier.h5', \n",
    "                                          custom_objects={'TransformerBlock': TransformerBlock, \n",
    "                                                          'PositionalEncoding': PositionalEncoding})"
   ]
  },
  {
   "cell_type": "code",
   "execution_count": 277,
   "metadata": {},
   "outputs": [
    {
     "name": "stdout",
     "output_type": "stream",
     "text": [
      "Model: \"model_22\"\n",
      "_________________________________________________________________\n",
      " Layer (type)                Output Shape              Param #   \n",
      "=================================================================\n",
      " input_23 (InputLayer)       [(None, 1, 10)]           0         \n",
      "                                                                 \n",
      " dense_192 (Dense)           (None, 1, 4)              44        \n",
      "                                                                 \n",
      " positional_encoding_22 (Pos  (None, 1, 4)             0         \n",
      " itionalEncoding)                                                \n",
      "                                                                 \n",
      " transformer_block_22 (Trans  (None, 1, 4)             136       \n",
      " formerBlock)                                                    \n",
      "                                                                 \n",
      " global_average_pooling1d_22  (None, 4)                0         \n",
      "  (GlobalAveragePooling1D)                                       \n",
      "                                                                 \n",
      " dropout_124 (Dropout)       (None, 4)                 0         \n",
      "                                                                 \n",
      " dense_195 (Dense)           (None, 20)                100       \n",
      "                                                                 \n",
      " dropout_125 (Dropout)       (None, 20)                0         \n",
      "                                                                 \n",
      " dense_196 (Dense)           (None, 1)                 21        \n",
      "                                                                 \n",
      "=================================================================\n",
      "Total params: 301\n",
      "Trainable params: 301\n",
      "Non-trainable params: 0\n",
      "_________________________________________________________________\n"
     ]
    }
   ],
   "source": [
    "loaded_model.summary()"
   ]
  }
 ],
 "metadata": {
  "kernelspec": {
   "display_name": "myenv",
   "language": "python",
   "name": "python3"
  },
  "language_info": {
   "codemirror_mode": {
    "name": "ipython",
    "version": 3
   },
   "file_extension": ".py",
   "mimetype": "text/x-python",
   "name": "python",
   "nbconvert_exporter": "python",
   "pygments_lexer": "ipython3",
   "version": "3.10.11"
  }
 },
 "nbformat": 4,
 "nbformat_minor": 2
}
